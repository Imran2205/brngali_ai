{
 "cells": [
  {
   "cell_type": "code",
   "execution_count": 1,
   "metadata": {
    "_cell_guid": "b1076dfc-b9ad-4769-8c92-a6c4dae69d19",
    "_uuid": "8f2839f25d086af736a60e9eeb907d3b93b6e0e5"
   },
   "outputs": [
    {
     "name": "stdout",
     "output_type": "stream",
     "text": [
      "/kaggle/input/bangla-ai-64pix/x_train_banglaHW_64pix.pickle\n",
      "/kaggle/input/bangla-ai-64pix/y_train_consonant_banglaHW_64pix.pickle\n",
      "/kaggle/input/bangla-ai-64pix/y_train_vowel_banglaHW_64pix.pickle\n",
      "/kaggle/input/bangla-ai-64pix/y_test_consonant_banglaHW_64pix.pickle\n",
      "/kaggle/input/bangla-ai-64pix/y_test_vowel_banglaHW_64pix.pickle\n",
      "/kaggle/input/bangla-ai-64pix/x_test_banglaHW_64pix.pickle\n",
      "/kaggle/input/bangla-ai-64pix/y_train_root_banglaHW_64pix.pickle\n",
      "/kaggle/input/bangla-ai-64pix/y_test_root_banglaHW_64ix.pickle\n",
      "/kaggle/input/balanced-32-bengali-dataset/x_test_32_vowel_banglaHW_list_oversampled.pickle\n",
      "/kaggle/input/balanced-32-bengali-dataset/x_train_32_vowel_banglaHW_list_oversampled.pickle\n",
      "/kaggle/input/balanced-32-bengali-dataset/y_test_32_vowel_banglaHW_list_oversampled.pickle\n",
      "/kaggle/input/balanced-32-bengali-dataset/x_train_32_root_banglaHW_list_oversampled.pickle\n",
      "/kaggle/input/balanced-32-bengali-dataset/x_test_32_root_banglaHW_list_oversampled.pickle\n",
      "/kaggle/input/balanced-32-bengali-dataset/y_train_32_consonant_banglaHW_list_oversampled.pickle\n",
      "/kaggle/input/balanced-32-bengali-dataset/y_test_32_root_banglaHW_list_oversampled.pickle\n",
      "/kaggle/input/balanced-32-bengali-dataset/y_test_32_consonant_banglaHW_list_oversampled.pickle\n",
      "/kaggle/input/balanced-32-bengali-dataset/x_test_32_consonant_banglaHW_list_oversampled.pickle\n",
      "/kaggle/input/balanced-32-bengali-dataset/x_train_32_consonant_banglaHW_list_oversampled.pickle\n",
      "/kaggle/input/balanced-32-bengali-dataset/y_train_32_vowel_banglaHW_list_oversampled.pickle\n",
      "/kaggle/input/balanced-32-bengali-dataset/y_train_32_root_banglaHW_list_oversampled.pickle\n",
      "/kaggle/input/bengaliai-cv19/train.csv\n",
      "/kaggle/input/bengaliai-cv19/train_image_data_2.parquet\n",
      "/kaggle/input/bengaliai-cv19/test_image_data_1.parquet\n",
      "/kaggle/input/bengaliai-cv19/class_map.csv\n",
      "/kaggle/input/bengaliai-cv19/train_image_data_3.parquet\n",
      "/kaggle/input/bengaliai-cv19/test_image_data_2.parquet\n",
      "/kaggle/input/bengaliai-cv19/train_image_data_1.parquet\n",
      "/kaggle/input/bengaliai-cv19/test_image_data_0.parquet\n",
      "/kaggle/input/bengaliai-cv19/test.csv\n",
      "/kaggle/input/bengaliai-cv19/train_image_data_0.parquet\n",
      "/kaggle/input/bengaliai-cv19/sample_submission.csv\n",
      "/kaggle/input/bengaliai-cv19/test_image_data_3.parquet\n"
     ]
    }
   ],
   "source": [
    "# This Python 3 environment comes with many helpful analytics libraries installed\n",
    "# It is defined by the kaggle/python docker image: https://github.com/kaggle/docker-python\n",
    "# For example, here's several helpful packages to load in \n",
    "\n",
    "import numpy as np # linear algebra\n",
    "import pandas as pd # data processing, CSV file I/O (e.g. pd.read_csv)\n",
    "\n",
    "# Input data files are available in the \"../input/\" directory.\n",
    "# For example, running this (by clicking run or pressing Shift+Enter) will list all files under the input directory\n",
    "\n",
    "import os\n",
    "for dirname, _, filenames in os.walk('/kaggle/input'):\n",
    "    for filename in filenames:\n",
    "        print(os.path.join(dirname, filename))\n",
    "\n",
    "# Any results you write to the current directory are saved as output."
   ]
  },
  {
   "cell_type": "code",
   "execution_count": 2,
   "metadata": {
    "_cell_guid": "79c7e3d0-c299-4dcb-8224-4455121ee9b0",
    "_uuid": "d629ff2d2480ee46fbb7e2d37f6b5fab8052498a"
   },
   "outputs": [
    {
     "name": "stderr",
     "output_type": "stream",
     "text": [
      "Using TensorFlow backend.\n"
     ]
    }
   ],
   "source": [
    "import pyarrow.parquet as pq\n",
    "\n",
    "import pyarrow as pa\n",
    "\n",
    "import numpy as np\n",
    "\n",
    "import matplotlib.pyplot as plt\n",
    "\n",
    "import pandas as pd\n",
    "import pickle\n",
    "\n",
    "from sklearn import datasets, linear_model\n",
    "from sklearn.model_selection import train_test_split\n",
    "\n",
    "\n",
    "\n",
    "import tensorflow as tf\n",
    "from keras.models import Model\n",
    "\n",
    "from keras.layers import MaxPooling2D\n",
    "from keras.optimizers import SGD\n",
    "from keras.models import clone_model\n",
    "from keras.utils import to_categorical\n",
    "from keras.layers.core import Activation\n",
    "from keras.models import Sequential\n",
    "from keras.layers import Dense,Conv2D,Flatten,MaxPool2D,Dropout,BatchNormalization, Input\n",
    "from keras.optimizers import Adam\n",
    "from keras.preprocessing.image import ImageDataGenerator\n",
    "from keras.callbacks import ReduceLROnPlateau\n",
    "import gc\n",
    "import keras\n",
    "\n",
    "from keras import backend as K\n",
    "\n",
    "import cv2\n",
    "\n"
   ]
  },
  {
   "cell_type": "code",
   "execution_count": 3,
   "metadata": {},
   "outputs": [
    {
     "data": {
      "text/plain": [
       "'pickle_in = open(\"/kaggle/input/bengali-ai/x_banglaHW_list.pickle\", \"rb\")\\ntrainX = pickle.load(pickle_in)\\npickle_in.close()\\n\\npickle_in = open(\"/kaggle/input/bengali-ai/y_banglaHW_list_root.pickle\", \"rb\")\\ntrainYRoot = pickle.load(pickle_in)\\npickle_in.close()\\n\\npickle_in = open(\"/kaggle/input/bengali-ai/y_banglaHW_list_vowel.pickle\", \"rb\")\\ntrainYVowel = pickle.load(pickle_in)\\npickle_in.close()\\n\\npickle_in = open(\"/kaggle/input/bengali-ai/y_banglaHW_list_consonant.pickle\", \"rb\")\\ntrainYConsonant = pickle.load(pickle_in)\\npickle_in.close()'"
      ]
     },
     "execution_count": 3,
     "metadata": {},
     "output_type": "execute_result"
    }
   ],
   "source": [
    "pickle_in = open(\"/kaggle/input/bangla-ai-64pix/x_train_banglaHW_64pix.pickle\", \"rb\")\n",
    "xTrainData = pickle.load(pickle_in)\n",
    "pickle_in.close()\n",
    "\n",
    "pickle_in = open(\"/kaggle/input/bangla-ai-64pix/x_test_banglaHW_64pix.pickle\", \"rb\")\n",
    "xTestData = pickle.load(pickle_in)\n",
    "pickle_in.close()\n",
    "\n",
    "pickle_in = open(\"/kaggle/input/bangla-ai-64pix/y_train_root_banglaHW_64pix.pickle\", \"rb\")\n",
    "yTrainData = pickle.load(pickle_in)\n",
    "pickle_in.close()\n",
    "\n",
    "pickle_in = open(\"/kaggle/input/bangla-ai-64pix/y_test_root_banglaHW_64ix.pickle\", \"rb\")\n",
    "yTestData = pickle.load(pickle_in)\n",
    "pickle_in.close()\n",
    "\n",
    "'''pickle_in = open(\"/kaggle/input/bangla-ai-dataset-new/x_validation_banglaHW_list.pickle\", \"rb\")\n",
    "xTestData = pickle.load(pickle_in) \n",
    "pickle_in.close()\n",
    "\n",
    "pickle_in = open(\"/kaggle/input/bangla-ai-dataset-new/y_root_train_banglaHW_list.pickle\", \"rb\")\n",
    "yTrainRootData = pickle.load(pickle_in)\n",
    "pickle_in.close()\n",
    "\n",
    "pickle_in = open(\"/kaggle/input/bangla-ai-dataset-new/y_root_validation_banglaHW_list.pickle\", \"rb\")\n",
    "yTestRootData = pickle.load(pickle_in)\n",
    "pickle_in.close()\n",
    "\n",
    "pickle_in = open(\"/kaggle/input/bangla-ai-dataset-new/y_vowel_train_banglaHW_list.pickle\", \"rb\")\n",
    "yTrainVowelData = pickle.load(pickle_in)\n",
    "pickle_in.close()\n",
    "\n",
    "pickle_in = open(\"/kaggle/input/bangla-ai-dataset-new/y_vowel_validation_banglaHW_list.pickle\", \"rb\")\n",
    "yTestVowelData = pickle.load(pickle_in)\n",
    "pickle_in.close()\n",
    "\n",
    "pickle_in = open(\"/kaggle/input/bangla-ai-dataset-new/y_consonant_train_banglaHW_list.pickle\", \"rb\")\n",
    "yTrainConsonantData = pickle.load(pickle_in)\n",
    "pickle_in.close()\n",
    "\n",
    "pickle_in = open(\"/kaggle/input/bangla-ai-dataset-new/y_consonant_validation_banglaHW_list.pickle\", \"rb\")\n",
    "yTestConsonantData = pickle.load(pickle_in)\n",
    "pickle_in.close()'''\n",
    "\n",
    "'''pickle_in = open(\"/kaggle/input/bengali-ai/x_banglaHW_list.pickle\", \"rb\")\n",
    "trainX = pickle.load(pickle_in)\n",
    "pickle_in.close()\n",
    "\n",
    "pickle_in = open(\"/kaggle/input/bengali-ai/y_banglaHW_list_root.pickle\", \"rb\")\n",
    "trainYRoot = pickle.load(pickle_in)\n",
    "pickle_in.close()\n",
    "\n",
    "pickle_in = open(\"/kaggle/input/bengali-ai/y_banglaHW_list_vowel.pickle\", \"rb\")\n",
    "trainYVowel = pickle.load(pickle_in)\n",
    "pickle_in.close()\n",
    "\n",
    "pickle_in = open(\"/kaggle/input/bengali-ai/y_banglaHW_list_consonant.pickle\", \"rb\")\n",
    "trainYConsonant = pickle.load(pickle_in)\n",
    "pickle_in.close()'''"
   ]
  },
  {
   "cell_type": "code",
   "execution_count": 4,
   "metadata": {},
   "outputs": [
    {
     "name": "stdout",
     "output_type": "stream",
     "text": [
      "168\n"
     ]
    },
    {
     "data": {
      "text/plain": [
       "36"
      ]
     },
     "execution_count": 4,
     "metadata": {},
     "output_type": "execute_result"
    },
    {
     "data": {
      "image/png": "[encoded data removed]",
      "text/plain": [
       "<Figure size 432x288 with 1 Axes>"
      ]
     },
     "metadata": {
      "needs_background": "light"
     },
     "output_type": "display_data"
    }
   ],
   "source": [
    "plt.imshow(xTrainData[1000])\n",
    "plt.show\n",
    "CLS = (yTrainData.shape[1])\n",
    "print(CLS)\n",
    "gc.collect()"
   ]
  },
  {
   "cell_type": "code",
   "execution_count": 5,
   "metadata": {},
   "outputs": [
    {
     "name": "stdout",
     "output_type": "stream",
     "text": [
      "(190798, 64, 64, 1)\n",
      "(10042, 64, 64, 1)\n"
     ]
    }
   ],
   "source": [
    "IMG_SIZE = xTrainData.shape[1]\n",
    "xTrainData = np.array(xTrainData).reshape(-1, IMG_SIZE, IMG_SIZE, 1)\n",
    "xTestData = np.array(xTestData).reshape(-1, IMG_SIZE, IMG_SIZE, 1)\n",
    "print(xTrainData.shape)\n",
    "print(xTestData.shape)"
   ]
  },
  {
   "cell_type": "code",
   "execution_count": 6,
   "metadata": {},
   "outputs": [
    {
     "name": "stdout",
     "output_type": "stream",
     "text": [
      "(190798, 168)\n",
      "(10042, 168)\n"
     ]
    }
   ],
   "source": [
    "print(yTrainData.shape)\n",
    "print(yTestData.shape)"
   ]
  },
  {
   "cell_type": "code",
   "execution_count": 7,
   "metadata": {},
   "outputs": [],
   "source": [
    "\n",
    "xTrainData = xTrainData/np.float32(255.0)\n",
    "xTestData = xTestData/np.float32(255.0)"
   ]
  },
  {
   "cell_type": "code",
   "execution_count": 8,
   "metadata": {},
   "outputs": [
    {
     "name": "stdout",
     "output_type": "stream",
     "text": [
      "(190798, 64, 64, 1)\n",
      "(10042, 64, 64, 1)\n",
      "(190798, 168)\n",
      "(10042, 168)\n"
     ]
    }
   ],
   "source": [
    "yTrainData = np.array(yTrainData)\n",
    "yTestData = np.array(yTestData)\n",
    "print((xTrainData.shape))\n",
    "print((xTestData.shape))\n",
    "print((yTrainData.shape))\n",
    "print((yTestData.shape))"
   ]
  },
  {
   "cell_type": "code",
   "execution_count": 9,
   "metadata": {},
   "outputs": [],
   "source": [
    "class SmallerVGGNet:\n",
    "    @staticmethod\n",
    "    def build(width, height, depth, classes, finalAct=\"softmax\"):\n",
    "        # initialize the model along with the input shape to be\n",
    "        # \"channels last\" and the channels dimension itself\n",
    "        model = Sequential()\n",
    "        inputShape = (height, width, depth)\n",
    "        chanDim = -1\n",
    "\n",
    "        # if we are using \"channels first\", update the input shape\n",
    "        # and channels dimension\n",
    "        if K.image_data_format() == \"channels_first\":\n",
    "            inputShape = (depth, height, width)\n",
    "            chanDim = 1\n",
    "        model.add(Conv2D(32, (3, 3), padding=\"same\",\n",
    "            input_shape=inputShape))\n",
    "        model.add(Activation(\"relu\"))\n",
    "        model.add(BatchNormalization(axis=chanDim))\n",
    "        model.add(MaxPooling2D(pool_size=(3, 3)))\n",
    "        model.add(Dropout(0.25))\n",
    "        # (CONV => RELU) * 2 => POOL\n",
    "        model.add(Conv2D(64, (3, 3), padding=\"same\"))\n",
    "        model.add(Activation(\"relu\"))\n",
    "        model.add(BatchNormalization(axis=chanDim))\n",
    "        model.add(Conv2D(64, (3, 3), padding=\"same\"))\n",
    "        model.add(Activation(\"relu\"))\n",
    "        model.add(BatchNormalization(axis=chanDim))\n",
    "        model.add(MaxPooling2D(pool_size=(2, 2)))\n",
    "        model.add(Dropout(0.25))\n",
    "\n",
    "        # (CONV => RELU) * 2 => POOL\n",
    "        model.add(Conv2D(128, (3, 3), padding=\"same\"))\n",
    "        model.add(Activation(\"relu\"))\n",
    "        model.add(BatchNormalization(axis=chanDim))\n",
    "        model.add(Conv2D(128, (3, 3), padding=\"same\"))\n",
    "        model.add(Activation(\"relu\"))\n",
    "        model.add(BatchNormalization(axis=chanDim))\n",
    "        model.add(MaxPooling2D(pool_size=(2, 2)))\n",
    "        model.add(Dropout(0.25))\n",
    "        \n",
    "        model.add(Conv2D(256, (3, 3), padding=\"same\"))\n",
    "        model.add(Activation(\"relu\"))\n",
    "        model.add(BatchNormalization(axis=chanDim))\n",
    "        model.add(Conv2D(256, (3, 3), padding=\"same\"))\n",
    "        model.add(Activation(\"relu\"))\n",
    "        model.add(BatchNormalization(axis=chanDim))\n",
    "        model.add(MaxPooling2D(pool_size=(2, 2)))\n",
    "        model.add(Dropout(0.25))\n",
    "        \n",
    "        model.add(Flatten())\n",
    "        model.add(Dense(1024))\n",
    "        model.add(Activation(\"relu\"))\n",
    "        model.add(BatchNormalization())\n",
    "        model.add(Dropout(0.5))\n",
    "        \n",
    "        model.add(Dense(512))\n",
    "        model.add(Activation(\"relu\"))\n",
    "        model.add(BatchNormalization())\n",
    "        model.add(Dropout(0.5))\n",
    "\n",
    "        # use a *softmax* activation for single-label classification\n",
    "        # and *sigmoid* activation for multi-label classification\n",
    "        model.add(Dense(classes))\n",
    "        model.add(Activation(finalAct))\n",
    "\n",
    "        # return the constructed network architecture\n",
    "        return model"
   ]
  },
  {
   "cell_type": "code",
   "execution_count": 10,
   "metadata": {},
   "outputs": [
    {
     "data": {
      "text/plain": [
       "\"learning_rate_reduction_vowel = ReduceLROnPlateau(monitor='dense_2_accuracy', \\n                                            patience=2, \\n                                            verbose=1,\\n                                            factor=0.5, \\n                                            min_lr=0.000001)\\nlearning_rate_reduction_consonant = ReduceLROnPlateau(monitor='dense_3_accuracy', \\n                                            patience=2, \\n                                            verbose=1,\\n                                            factor=0.5, \\n                                            min_lr=0.000001)\""
      ]
     },
     "execution_count": 10,
     "metadata": {},
     "output_type": "execute_result"
    }
   ],
   "source": [
    "model = SmallerVGGNet.build(\n",
    "    width=xTrainData.shape[2], height=xTrainData.shape[1],\n",
    "    depth=xTrainData.shape[3], classes=CLS,\n",
    "    finalAct=\"softmax\")\n",
    "\n",
    "INIT_LR = 1e-3\n",
    "batch_size = 128\n",
    "epochs = 50\n",
    "\n",
    "opt = Adam(lr=INIT_LR, decay=INIT_LR / epochs)\n",
    "\n",
    "model.compile(loss=\"categorical_crossentropy\", optimizer=opt,\n",
    "    metrics=[\"accuracy\"])\n",
    "\n",
    "\n",
    "# Set a learning rate annealer. Learning rate will be half after 3 epochs if accuracy is not increased\n",
    "'''learning_rate_reduction = ReduceLROnPlateau(monitor='dense_1_accuracy', \n",
    "                                            patience=2, \n",
    "                                            verbose=1,\n",
    "                                            factor=0.5, \n",
    "                                            min_lr=0.000001)'''\n",
    "'''learning_rate_reduction_vowel = ReduceLROnPlateau(monitor='dense_2_accuracy', \n",
    "                                            patience=2, \n",
    "                                            verbose=1,\n",
    "                                            factor=0.5, \n",
    "                                            min_lr=0.000001)\n",
    "learning_rate_reduction_consonant = ReduceLROnPlateau(monitor='dense_3_accuracy', \n",
    "                                            patience=2, \n",
    "                                            verbose=1,\n",
    "                                            factor=0.5, \n",
    "                                            min_lr=0.000001)'''\n",
    "\n"
   ]
  },
  {
   "cell_type": "code",
   "execution_count": 11,
   "metadata": {},
   "outputs": [],
   "source": [
    "\n",
    "datagen = ImageDataGenerator(\n",
    "        featurewise_center=False,  # set input mean to 0 over the dataset\n",
    "        samplewise_center=False,  # set each sample mean to 0\n",
    "        featurewise_std_normalization=False,  # divide inputs by std of the dataset\n",
    "        samplewise_std_normalization=False,  # divide each input by its std\n",
    "        zca_whitening=False,  # apply ZCA whitening\n",
    "        rotation_range=8,  # randomly rotate images in the range (degrees, 0 to 180)\n",
    "        zoom_range = 0.2, # Randomly zoom image \n",
    "        width_shift_range=0.2,  # randomly shift images horizontally (fraction of total width)\n",
    "        height_shift_range=0.2,  # randomly shift images vertically (fraction of total height)\n",
    "        horizontal_flip=False,  # randomly flip images\n",
    "        vertical_flip=False)  # randomly flip images\n",
    "\n",
    "\n",
    "# This will just calculate parameters required to augment the given data. This won't perform any augmentations\n",
    "#datagen.fit(xTrainData)\n",
    "\n",
    "# Fit the model\n",
    "\n",
    "#gpu_options = tf.compat.v1.GPUOptions(per_process_gpu_memory_fraction = 0.25)\n",
    "\n",
    "#sess = tf.compat.v1.Session(config=tf.compat.v1.ConfigProto(gpu_options=gpu_options))\n",
    "\n"
   ]
  },
  {
   "cell_type": "code",
   "execution_count": 12,
   "metadata": {},
   "outputs": [
    {
     "name": "stdout",
     "output_type": "stream",
     "text": [
      "Epoch 1/50\n",
      "1490/1490 [==============================] - 124s 83ms/step - loss: 4.1765 - accuracy: 0.1179 - val_loss: 15.3988 - val_accuracy: 0.0049\n",
      "Epoch 2/50\n",
      "1490/1490 [==============================] - 118s 79ms/step - loss: 1.8133 - accuracy: 0.5105 - val_loss: 0.8921 - val_accuracy: 0.7465\n",
      "Epoch 3/50\n",
      "1490/1490 [==============================] - 119s 80ms/step - loss: 1.2211 - accuracy: 0.6643 - val_loss: 0.6794 - val_accuracy: 0.8101\n",
      "Epoch 4/50\n",
      "1490/1490 [==============================] - 120s 81ms/step - loss: 1.0071 - accuracy: 0.7223 - val_loss: 0.7012 - val_accuracy: 0.8027\n",
      "Epoch 5/50\n",
      "1490/1490 [==============================] - 118s 79ms/step - loss: 0.8923 - accuracy: 0.7523 - val_loss: 0.4945 - val_accuracy: 0.8605\n",
      "Epoch 6/50\n",
      "1490/1490 [==============================] - 117s 79ms/step - loss: 0.8112 - accuracy: 0.7741 - val_loss: 0.4774 - val_accuracy: 0.8647\n",
      "Epoch 7/50\n",
      "1490/1490 [==============================] - 118s 79ms/step - loss: 0.7596 - accuracy: 0.7889 - val_loss: 0.3835 - val_accuracy: 0.8912\n",
      "Epoch 8/50\n",
      "1490/1490 [==============================] - 118s 79ms/step - loss: 0.7121 - accuracy: 0.8015 - val_loss: 0.8758 - val_accuracy: 0.7582\n",
      "Epoch 9/50\n",
      "1490/1490 [==============================] - 117s 78ms/step - loss: 0.6800 - accuracy: 0.8098 - val_loss: 0.4063 - val_accuracy: 0.8842\n",
      "Epoch 10/50\n",
      "1490/1490 [==============================] - 119s 80ms/step - loss: 0.4935 - accuracy: 0.8591 - val_loss: 0.2710 - val_accuracy: 0.9209\n",
      "Epoch 22/50\n",
      "1490/1490 [==============================] - 117s 79ms/step - loss: 0.4182 - accuracy: 0.8790 - val_loss: 0.3461 - val_accuracy: 0.8966\n",
      "Epoch 35/50\n",
      "1490/1490 [==============================] - 116s 78ms/step - loss: 0.3763 - accuracy: 0.8903 - val_loss: 0.2223 - val_accuracy: 0.9364\n",
      "Epoch 48/50\n",
      " 170/1490 [==>...........................] - ETA: 1:36 - loss: 0.3648 - accuracy: 0.8941"
     ]
    }
   ],
   "source": [
    "history =  model.fit_generator(\n",
    "    datagen.flow(xTrainData, yTrainData, batch_size=batch_size),\n",
    "    validation_data = (xTestData, yTestData),\n",
    "    steps_per_epoch=len(xTrainData) // batch_size,\n",
    "    epochs=epochs, verbose=1)"
   ]
  },
  {
   "cell_type": "code",
   "execution_count": 13,
   "metadata": {},
   "outputs": [
    {
     "name": "stdout",
     "output_type": "stream",
     "text": [
      "9314\n",
      "10042\n",
      "0.927504481179048\n"
     ]
    }
   ],
   "source": [
    "prediction=model.predict(xTestData)\n",
    "correct = 0\n",
    "total = 0\n",
    "for x in range(xTestData.shape[0]):\n",
    "    \n",
    "    guessed = np.argmax(prediction[x])\n",
    "\n",
    "    actual = np.argmax(yTestData[x])\n",
    "    if(guessed == actual):\n",
    "        correct += 1\n",
    "    total+=1\n",
    "print(correct)\n",
    "print(total)\n",
    "print(correct/total)\n",
    "        \n",
    "\n"
   ]
  },
  {
   "cell_type": "code",
   "execution_count": 14,
   "metadata": {},
   "outputs": [],
   "source": [
    "model.save('model_b_hw_root.hdf5')"
   ]
  },
  {
   "cell_type": "code",
   "execution_count": 15,
   "metadata": {},
   "outputs": [],
   "source": [
    "plt.subplot(211)\n",
    "plt.title('Cross Entropy Loss')\n",
    "plt.plot(history.history['loss'], color='blue', label='train')\n",
    "plt.plot(history.history['val_loss'], color='orange', label='test')\n",
    "# plot accuracy\n",
    "plt.subplot(212)\n",
    "plt.title('Classification Accuracy')\n",
    "plt.plot(history.history['accuracy'], color='blue', label='train')\n",
    "plt.plot(history.history['val_accuracy'], color='orange', label='test')\n",
    "# save plot to file\n",
    "\n",
    "plt.savefig('_plot.png')\n",
    "plt.close()"
   ]
  },
  {
   "cell_type": "code",
   "execution_count": 16,
   "metadata": {},
   "outputs": [],
   "source": [
    "model.save('model_root.h5')"
   ]
  }
 ],
 "metadata": {
  "kernelspec": {
   "display_name": "Python 3",
   "language": "python",
   "name": "python3"
  },
  "language_info": {
   "codemirror_mode": {
    "name": "ipython",
    "version": 3
   },
   "file_extension": ".py",
   "mimetype": "text/x-python",
   "name": "python",
   "nbconvert_exporter": "python",
   "pygments_lexer": "ipython3",
   "version": "3.6.6"
  }
 },
 "nbformat": 4,
 "nbformat_minor": 1
}
