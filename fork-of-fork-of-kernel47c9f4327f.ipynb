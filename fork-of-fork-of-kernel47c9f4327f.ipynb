{
 "cells": [
  {
   "cell_type": "code",
   "execution_count": 1,
   "metadata": {
    "_cell_guid": "b1076dfc-b9ad-4769-8c92-a6c4dae69d19",
    "_uuid": "8f2839f25d086af736a60e9eeb907d3b93b6e0e5"
   },
   "outputs": [
    {
     "name": "stdout",
     "output_type": "stream",
     "text": [
      "/kaggle/input/trained-model-b-hw/model_b_hw_3.hdf5\n",
      "/kaggle/input/trained-model-b-hw/model_b_hw_2.hdf5\n",
      "/kaggle/input/bengaliai-cv19/test_image_data_2.parquet\n",
      "/kaggle/input/bengaliai-cv19/test_image_data_3.parquet\n",
      "/kaggle/input/bengaliai-cv19/test_image_data_0.parquet\n",
      "/kaggle/input/bengaliai-cv19/train.csv\n",
      "/kaggle/input/bengaliai-cv19/test_image_data_1.parquet\n",
      "/kaggle/input/bengaliai-cv19/class_map.csv\n",
      "/kaggle/input/bengaliai-cv19/train_image_data_3.parquet\n",
      "/kaggle/input/bengaliai-cv19/train_image_data_2.parquet\n",
      "/kaggle/input/bengaliai-cv19/test.csv\n",
      "/kaggle/input/bengaliai-cv19/sample_submission.csv\n",
      "/kaggle/input/bengaliai-cv19/train_image_data_1.parquet\n",
      "/kaggle/input/bengaliai-cv19/train_image_data_0.parquet\n",
      "/kaggle/input/trained-model-bengali-ai-1/model_b_hw.hdf5\n"
     ]
    }
   ],
   "source": [
    "# This Python 3 environment comes with many helpful analytics libraries installed\n",
    "# It is defined by the kaggle/python docker image: https://github.com/kaggle/docker-python\n",
    "# For example, here's several helpful packages to load in \n",
    "\n",
    "import numpy as np # linear algebra\n",
    "import pandas as pd # data processing, CSV file I/O (e.g. pd.read_csv)\n",
    "\n",
    "# Input data files are available in the \"../input/\" directory.\n",
    "# For example, running this (by clicking run or pressing Shift+Enter) will list all files under the input directory\n",
    "\n",
    "import os\n",
    "for dirname, _, filenames in os.walk('/kaggle/input'):\n",
    "    for filename in filenames:\n",
    "        print(os.path.join(dirname, filename))\n",
    "\n",
    "# Any results you write to the current directory are saved as output."
   ]
  },
  {
   "cell_type": "code",
   "execution_count": 2,
   "metadata": {
    "_cell_guid": "79c7e3d0-c299-4dcb-8224-4455121ee9b0",
    "_uuid": "d629ff2d2480ee46fbb7e2d37f6b5fab8052498a"
   },
   "outputs": [
    {
     "name": "stderr",
     "output_type": "stream",
     "text": [
      "Using TensorFlow backend.\n"
     ]
    }
   ],
   "source": [
    "import pyarrow.parquet as pq\n",
    "\n",
    "import pyarrow as pa\n",
    "\n",
    "import numpy as np\n",
    "\n",
    "import matplotlib.pyplot as plt\n",
    "\n",
    "import pandas as pd\n",
    "import pickle\n",
    "\n",
    "from sklearn import datasets, linear_model\n",
    "from sklearn.model_selection import train_test_split\n",
    "\n",
    "\n",
    "\n",
    "import tensorflow as tf\n",
    "from tensorflow.keras.models import Model\n",
    "from tensorflow.keras.models import clone_model\n",
    "from tensorflow.keras.layers import Dense,Conv2D,Flatten,MaxPool2D,Dropout,BatchNormalization, Input\n",
    "from tensorflow.keras.optimizers import Adam\n",
    "from tensorflow.keras.callbacks import ReduceLROnPlateau\n",
    "\n",
    "import keras\n",
    "\n",
    "import cv2\n",
    "\n",
    "import gc\n",
    "\n"
   ]
  },
  {
   "cell_type": "code",
   "execution_count": 3,
   "metadata": {},
   "outputs": [],
   "source": [
    "new_model = tf.keras.models.load_model('/kaggle/input/trained-model-b-hw/model_b_hw_3.hdf5')"
   ]
  },
  {
   "cell_type": "code",
   "execution_count": 4,
   "metadata": {},
   "outputs": [
    {
     "data": {
      "text/html": [
       "<div>\n",
       "<style scoped>\n",
       "    .dataframe tbody tr th:only-of-type {\n",
       "        vertical-align: middle;\n",
       "    }\n",
       "\n",
       "    .dataframe tbody tr th {\n",
       "        vertical-align: top;\n",
       "    }\n",
       "\n",
       "    .dataframe thead th {\n",
       "        text-align: right;\n",
       "    }\n",
       "</style>\n",
       "<table border=\"1\" class=\"dataframe\">\n",
       "  <thead>\n",
       "    <tr style=\"text-align: right;\">\n",
       "      <th></th>\n",
       "      <th>image_id</th>\n",
       "      <th>0</th>\n",
       "      <th>1</th>\n",
       "      <th>2</th>\n",
       "      <th>3</th>\n",
       "      <th>4</th>\n",
       "      <th>5</th>\n",
       "      <th>6</th>\n",
       "      <th>7</th>\n",
       "      <th>8</th>\n",
       "      <th>...</th>\n",
       "      <th>32322</th>\n",
       "      <th>32323</th>\n",
       "      <th>32324</th>\n",
       "      <th>32325</th>\n",
       "      <th>32326</th>\n",
       "      <th>32327</th>\n",
       "      <th>32328</th>\n",
       "      <th>32329</th>\n",
       "      <th>32330</th>\n",
       "      <th>32331</th>\n",
       "    </tr>\n",
       "  </thead>\n",
       "  <tbody>\n",
       "    <tr>\n",
       "      <th>7</th>\n",
       "      <td>Test_7</td>\n",
       "      <td>254</td>\n",
       "      <td>254</td>\n",
       "      <td>254</td>\n",
       "      <td>254</td>\n",
       "      <td>254</td>\n",
       "      <td>255</td>\n",
       "      <td>255</td>\n",
       "      <td>255</td>\n",
       "      <td>255</td>\n",
       "      <td>...</td>\n",
       "      <td>255</td>\n",
       "      <td>255</td>\n",
       "      <td>255</td>\n",
       "      <td>255</td>\n",
       "      <td>255</td>\n",
       "      <td>255</td>\n",
       "      <td>255</td>\n",
       "      <td>254</td>\n",
       "      <td>252</td>\n",
       "      <td>251</td>\n",
       "    </tr>\n",
       "    <tr>\n",
       "      <th>8</th>\n",
       "      <td>Test_8</td>\n",
       "      <td>251</td>\n",
       "      <td>251</td>\n",
       "      <td>249</td>\n",
       "      <td>247</td>\n",
       "      <td>247</td>\n",
       "      <td>248</td>\n",
       "      <td>249</td>\n",
       "      <td>249</td>\n",
       "      <td>249</td>\n",
       "      <td>...</td>\n",
       "      <td>252</td>\n",
       "      <td>252</td>\n",
       "      <td>252</td>\n",
       "      <td>252</td>\n",
       "      <td>252</td>\n",
       "      <td>252</td>\n",
       "      <td>252</td>\n",
       "      <td>250</td>\n",
       "      <td>250</td>\n",
       "      <td>250</td>\n",
       "    </tr>\n",
       "    <tr>\n",
       "      <th>9</th>\n",
       "      <td>Test_9</td>\n",
       "      <td>250</td>\n",
       "      <td>251</td>\n",
       "      <td>249</td>\n",
       "      <td>248</td>\n",
       "      <td>248</td>\n",
       "      <td>249</td>\n",
       "      <td>248</td>\n",
       "      <td>249</td>\n",
       "      <td>252</td>\n",
       "      <td>...</td>\n",
       "      <td>254</td>\n",
       "      <td>254</td>\n",
       "      <td>253</td>\n",
       "      <td>252</td>\n",
       "      <td>252</td>\n",
       "      <td>253</td>\n",
       "      <td>254</td>\n",
       "      <td>253</td>\n",
       "      <td>253</td>\n",
       "      <td>253</td>\n",
       "    </tr>\n",
       "    <tr>\n",
       "      <th>10</th>\n",
       "      <td>Test_10</td>\n",
       "      <td>245</td>\n",
       "      <td>246</td>\n",
       "      <td>248</td>\n",
       "      <td>249</td>\n",
       "      <td>250</td>\n",
       "      <td>248</td>\n",
       "      <td>247</td>\n",
       "      <td>250</td>\n",
       "      <td>252</td>\n",
       "      <td>...</td>\n",
       "      <td>252</td>\n",
       "      <td>252</td>\n",
       "      <td>252</td>\n",
       "      <td>253</td>\n",
       "      <td>254</td>\n",
       "      <td>254</td>\n",
       "      <td>254</td>\n",
       "      <td>254</td>\n",
       "      <td>254</td>\n",
       "      <td>254</td>\n",
       "    </tr>\n",
       "    <tr>\n",
       "      <th>11</th>\n",
       "      <td>Test_11</td>\n",
       "      <td>252</td>\n",
       "      <td>252</td>\n",
       "      <td>252</td>\n",
       "      <td>252</td>\n",
       "      <td>252</td>\n",
       "      <td>252</td>\n",
       "      <td>252</td>\n",
       "      <td>252</td>\n",
       "      <td>252</td>\n",
       "      <td>...</td>\n",
       "      <td>253</td>\n",
       "      <td>253</td>\n",
       "      <td>253</td>\n",
       "      <td>253</td>\n",
       "      <td>253</td>\n",
       "      <td>253</td>\n",
       "      <td>253</td>\n",
       "      <td>253</td>\n",
       "      <td>253</td>\n",
       "      <td>252</td>\n",
       "    </tr>\n",
       "  </tbody>\n",
       "</table>\n",
       "<p>5 rows × 32333 columns</p>\n",
       "</div>"
      ],
      "text/plain": [
       "   image_id    0    1    2    3    4    5    6    7    8  ...  32322  32323  \\\n",
       "7    Test_7  254  254  254  254  254  255  255  255  255  ...    255    255   \n",
       "8    Test_8  251  251  249  247  247  248  249  249  249  ...    252    252   \n",
       "9    Test_9  250  251  249  248  248  249  248  249  252  ...    254    254   \n",
       "10  Test_10  245  246  248  249  250  248  247  250  252  ...    252    252   \n",
       "11  Test_11  252  252  252  252  252  252  252  252  252  ...    253    253   \n",
       "\n",
       "    32324  32325  32326  32327  32328  32329  32330  32331  \n",
       "7     255    255    255    255    255    254    252    251  \n",
       "8     252    252    252    252    252    250    250    250  \n",
       "9     253    252    252    253    254    253    253    253  \n",
       "10    252    253    254    254    254    254    254    254  \n",
       "11    253    253    253    253    253    253    253    252  \n",
       "\n",
       "[5 rows x 32333 columns]"
      ]
     },
     "execution_count": 4,
     "metadata": {},
     "output_type": "execute_result"
    }
   ],
   "source": [
    "df = pd.read_parquet('/kaggle/input/bengaliai-cv19/test_image_data_0.parquet')\n",
    "\n",
    "for x in range(1,4):\n",
    "    dt = pd.read_parquet(f'/kaggle/input/bengaliai-cv19/test_image_data_{x}.parquet')\n",
    "    df = df.append(dt, ignore_index=True)\n",
    "    del dt\n",
    "\n",
    "gc.collect()\n",
    "df.tail()\n"
   ]
  },
  {
   "cell_type": "code",
   "execution_count": 5,
   "metadata": {},
   "outputs": [
    {
     "data": {
      "text/plain": [
       "0"
      ]
     },
     "execution_count": 5,
     "metadata": {},
     "output_type": "execute_result"
    }
   ],
   "source": [
    "HEIGHT = 137\n",
    "WIDTH = 236\n",
    "\n",
    "def filter_image(image):\n",
    "    size = 64\n",
    "    image = cv2.resize(image,(size,size),interpolation=cv2.INTER_AREA)\n",
    "    gaussian_3 = cv2.GaussianBlur(image, (9,9), 10.0)\n",
    "    image = cv2.addWeighted(image, 1.5, gaussian_3, -0.5, 0, image)\n",
    "    kernel = np.array([[-1,-1,-1], [-1,9,-1], [-1,-1,-1]]) \n",
    "    image = cv2.filter2D(image, -1, kernel)\n",
    "    ret,image = cv2.threshold(image, 128, 255, cv2.THRESH_BINARY_INV)\n",
    "    return image\n",
    "\n",
    "def image_resized(df, image_id, size):\n",
    "\n",
    "    img = df[df.image_id == image_id].values[:, 1:].reshape(HEIGHT, WIDTH)\n",
    "    img = np.float32(img)\n",
    "    #img = cv2.cvtColor(img, cv2.COLOR_BGR2GRAY)\n",
    "    #(thresh, img) = cv2.threshold(img, 150, 150, cv2.THRESH_BINARY)\n",
    "    img = cv2.resize(img, (size, size))\n",
    "    #new_image = cv2.resize(image, (IMG_SIZE, IMG_SIZE))\n",
    "    #plt.imshow(img.astype(float), cmap='gray')\n",
    "    #imgUMat = np.float32(img)\n",
    "    #gray_img = cv2.cvtColor(img.astype(np.float64), cv2.COLOR_BGR2GRAY)\n",
    "    img = filter_image(img)\n",
    "    return img\n",
    "gc.collect()\n"
   ]
  },
  {
   "cell_type": "code",
   "execution_count": 6,
   "metadata": {},
   "outputs": [
    {
     "data": {
      "text/plain": [
       "12"
      ]
     },
     "execution_count": 6,
     "metadata": {},
     "output_type": "execute_result"
    }
   ],
   "source": [
    "testX = []\n",
    "\n",
    "for z in range(df.shape[0]):\n",
    "    testX.append(image_resized(df, f'Test_{z}', 64))\n",
    "\n",
    "gc.collect()\n",
    "df.shape[0]\n"
   ]
  },
  {
   "cell_type": "code",
   "execution_count": 7,
   "metadata": {},
   "outputs": [
    {
     "data": {
      "text/plain": [
       "0"
      ]
     },
     "execution_count": 7,
     "metadata": {},
     "output_type": "execute_result"
    },
    {
     "data": {
      "image/png": "[encoded data removed]",
      "text/plain": [
       "<Figure size 432x288 with 1 Axes>"
      ]
     },
     "metadata": {
      "needs_background": "light"
     },
     "output_type": "display_data"
    }
   ],
   "source": [
    "plt.imshow(testX[1])\n",
    "plt.show\n",
    "gc.collect()"
   ]
  },
  {
   "cell_type": "code",
   "execution_count": 8,
   "metadata": {},
   "outputs": [
    {
     "data": {
      "text/plain": [
       "2293"
      ]
     },
     "execution_count": 8,
     "metadata": {},
     "output_type": "execute_result"
    }
   ],
   "source": [
    "IMG_SIZE = 64\n",
    "testX = np.array(testX).reshape(-1, IMG_SIZE, IMG_SIZE, 1)\n",
    "gc.collect()"
   ]
  },
  {
   "cell_type": "code",
   "execution_count": 9,
   "metadata": {},
   "outputs": [
    {
     "data": {
      "text/plain": [
       "0"
      ]
     },
     "execution_count": 9,
     "metadata": {},
     "output_type": "execute_result"
    }
   ],
   "source": [
    "\n",
    "testX = testX/255.0\n",
    "gc.collect()"
   ]
  },
  {
   "cell_type": "code",
   "execution_count": 10,
   "metadata": {},
   "outputs": [
    {
     "data": {
      "text/plain": [
       "0"
      ]
     },
     "execution_count": 10,
     "metadata": {},
     "output_type": "execute_result"
    }
   ],
   "source": [
    "testX.shape\n",
    "gc.collect()"
   ]
  },
  {
   "cell_type": "code",
   "execution_count": 11,
   "metadata": {},
   "outputs": [
    {
     "data": {
      "text/plain": [
       "12"
      ]
     },
     "execution_count": 11,
     "metadata": {},
     "output_type": "execute_result"
    }
   ],
   "source": [
    "lim = testX.shape[0]\n",
    "gc.collect()\n",
    "lim"
   ]
  },
  {
   "cell_type": "code",
   "execution_count": 12,
   "metadata": {},
   "outputs": [
    {
     "data": {
      "text/plain": [
       "685"
      ]
     },
     "execution_count": 12,
     "metadata": {},
     "output_type": "execute_result"
    }
   ],
   "source": [
    "prediction = new_model.predict(testX)\n",
    "gc.collect()"
   ]
  },
  {
   "cell_type": "code",
   "execution_count": 13,
   "metadata": {},
   "outputs": [],
   "source": [
    "del testX"
   ]
  },
  {
   "cell_type": "code",
   "execution_count": 14,
   "metadata": {},
   "outputs": [
    {
     "data": {
      "text/plain": [
       "array([7.3419387e-06, 7.2844486e-08, 9.9998224e-01, 5.4576999e-06,\n",
       "       1.5441266e-07, 4.2737613e-09, 5.0930865e-10, 4.4752746e-06,\n",
       "       2.2234128e-07, 3.7556376e-09, 7.4221235e-10], dtype=float32)"
      ]
     },
     "execution_count": 14,
     "metadata": {},
     "output_type": "execute_result"
    }
   ],
   "source": [
    "prediction[1][1]\n"
   ]
  },
  {
   "cell_type": "code",
   "execution_count": 15,
   "metadata": {},
   "outputs": [
    {
     "data": {
      "text/plain": [
       "[0,\n",
       " 3,\n",
       " 0,\n",
       " 0,\n",
       " 93,\n",
       " 2,\n",
       " 0,\n",
       " 19,\n",
       " 0,\n",
       " 0,\n",
       " 115,\n",
       " 0,\n",
       " 0,\n",
       " 55,\n",
       " 4,\n",
       " 0,\n",
       " 115,\n",
       " 2,\n",
       " 5,\n",
       " 23,\n",
       " 9,\n",
       " 0,\n",
       " 137,\n",
       " 7,\n",
       " 0,\n",
       " 119,\n",
       " 9,\n",
       " 0,\n",
       " 133,\n",
       " 10,\n",
       " 4,\n",
       " 148,\n",
       " 1,\n",
       " 0,\n",
       " 21,\n",
       " 2]"
      ]
     },
     "execution_count": 15,
     "metadata": {},
     "output_type": "execute_result"
    }
   ],
   "source": [
    "allpredictions = []\n",
    "for x in range(lim):\n",
    "    allpredictions.append(np.argmax(prediction[2][x]))\n",
    "    allpredictions.append(np.argmax(prediction[0][x]))\n",
    "    allpredictions.append(np.argmax(prediction[1][x]))\n",
    "gc.collect()\n",
    "allpredictions"
   ]
  },
  {
   "cell_type": "code",
   "execution_count": 16,
   "metadata": {},
   "outputs": [],
   "source": [
    "del prediction"
   ]
  },
  {
   "cell_type": "code",
   "execution_count": 17,
   "metadata": {},
   "outputs": [
    {
     "data": {
      "text/plain": [
       "['Test_0_consonant_diacritic',\n",
       " 'Test_0_grapheme_root',\n",
       " 'Test_0_vowel_diacritic',\n",
       " 'Test_1_consonant_diacritic',\n",
       " 'Test_1_grapheme_root',\n",
       " 'Test_1_vowel_diacritic',\n",
       " 'Test_2_consonant_diacritic',\n",
       " 'Test_2_grapheme_root',\n",
       " 'Test_2_vowel_diacritic',\n",
       " 'Test_3_consonant_diacritic',\n",
       " 'Test_3_grapheme_root',\n",
       " 'Test_3_vowel_diacritic',\n",
       " 'Test_4_consonant_diacritic',\n",
       " 'Test_4_grapheme_root',\n",
       " 'Test_4_vowel_diacritic',\n",
       " 'Test_5_consonant_diacritic',\n",
       " 'Test_5_grapheme_root',\n",
       " 'Test_5_vowel_diacritic',\n",
       " 'Test_6_consonant_diacritic',\n",
       " 'Test_6_grapheme_root',\n",
       " 'Test_6_vowel_diacritic',\n",
       " 'Test_7_consonant_diacritic',\n",
       " 'Test_7_grapheme_root',\n",
       " 'Test_7_vowel_diacritic',\n",
       " 'Test_8_consonant_diacritic',\n",
       " 'Test_8_grapheme_root',\n",
       " 'Test_8_vowel_diacritic',\n",
       " 'Test_9_consonant_diacritic',\n",
       " 'Test_9_grapheme_root',\n",
       " 'Test_9_vowel_diacritic',\n",
       " 'Test_10_consonant_diacritic',\n",
       " 'Test_10_grapheme_root',\n",
       " 'Test_10_vowel_diacritic',\n",
       " 'Test_11_consonant_diacritic',\n",
       " 'Test_11_grapheme_root',\n",
       " 'Test_11_vowel_diacritic']"
      ]
     },
     "execution_count": 17,
     "metadata": {},
     "output_type": "execute_result"
    }
   ],
   "source": [
    "rowId = []\n",
    "component = ['consonant_diacritic', 'grapheme_root', 'vowel_diacritic']\n",
    "for x in range(lim):\n",
    "    for z in range(len(component)):\n",
    "        rowId.append(df[\"image_id\"][x]+'_'+component[z])\n",
    "\n",
    "del component\n",
    "gc.collect()\n",
    "rowId"
   ]
  },
  {
   "cell_type": "code",
   "execution_count": 18,
   "metadata": {},
   "outputs": [],
   "source": [
    "del df"
   ]
  },
  {
   "cell_type": "code",
   "execution_count": 19,
   "metadata": {},
   "outputs": [
    {
     "data": {
      "text/html": [
       "<div>\n",
       "<style scoped>\n",
       "    .dataframe tbody tr th:only-of-type {\n",
       "        vertical-align: middle;\n",
       "    }\n",
       "\n",
       "    .dataframe tbody tr th {\n",
       "        vertical-align: top;\n",
       "    }\n",
       "\n",
       "    .dataframe thead th {\n",
       "        text-align: right;\n",
       "    }\n",
       "</style>\n",
       "<table border=\"1\" class=\"dataframe\">\n",
       "  <thead>\n",
       "    <tr style=\"text-align: right;\">\n",
       "      <th></th>\n",
       "      <th>row_id</th>\n",
       "      <th>target</th>\n",
       "    </tr>\n",
       "  </thead>\n",
       "  <tbody>\n",
       "    <tr>\n",
       "      <th>0</th>\n",
       "      <td>Test_0_consonant_diacritic</td>\n",
       "      <td>0</td>\n",
       "    </tr>\n",
       "    <tr>\n",
       "      <th>1</th>\n",
       "      <td>Test_0_grapheme_root</td>\n",
       "      <td>3</td>\n",
       "    </tr>\n",
       "    <tr>\n",
       "      <th>2</th>\n",
       "      <td>Test_0_vowel_diacritic</td>\n",
       "      <td>0</td>\n",
       "    </tr>\n",
       "    <tr>\n",
       "      <th>3</th>\n",
       "      <td>Test_1_consonant_diacritic</td>\n",
       "      <td>0</td>\n",
       "    </tr>\n",
       "    <tr>\n",
       "      <th>4</th>\n",
       "      <td>Test_1_grapheme_root</td>\n",
       "      <td>93</td>\n",
       "    </tr>\n",
       "    <tr>\n",
       "      <th>5</th>\n",
       "      <td>Test_1_vowel_diacritic</td>\n",
       "      <td>2</td>\n",
       "    </tr>\n",
       "    <tr>\n",
       "      <th>6</th>\n",
       "      <td>Test_2_consonant_diacritic</td>\n",
       "      <td>0</td>\n",
       "    </tr>\n",
       "    <tr>\n",
       "      <th>7</th>\n",
       "      <td>Test_2_grapheme_root</td>\n",
       "      <td>19</td>\n",
       "    </tr>\n",
       "    <tr>\n",
       "      <th>8</th>\n",
       "      <td>Test_2_vowel_diacritic</td>\n",
       "      <td>0</td>\n",
       "    </tr>\n",
       "    <tr>\n",
       "      <th>9</th>\n",
       "      <td>Test_3_consonant_diacritic</td>\n",
       "      <td>0</td>\n",
       "    </tr>\n",
       "    <tr>\n",
       "      <th>10</th>\n",
       "      <td>Test_3_grapheme_root</td>\n",
       "      <td>115</td>\n",
       "    </tr>\n",
       "    <tr>\n",
       "      <th>11</th>\n",
       "      <td>Test_3_vowel_diacritic</td>\n",
       "      <td>0</td>\n",
       "    </tr>\n",
       "    <tr>\n",
       "      <th>12</th>\n",
       "      <td>Test_4_consonant_diacritic</td>\n",
       "      <td>0</td>\n",
       "    </tr>\n",
       "    <tr>\n",
       "      <th>13</th>\n",
       "      <td>Test_4_grapheme_root</td>\n",
       "      <td>55</td>\n",
       "    </tr>\n",
       "    <tr>\n",
       "      <th>14</th>\n",
       "      <td>Test_4_vowel_diacritic</td>\n",
       "      <td>4</td>\n",
       "    </tr>\n",
       "    <tr>\n",
       "      <th>15</th>\n",
       "      <td>Test_5_consonant_diacritic</td>\n",
       "      <td>0</td>\n",
       "    </tr>\n",
       "    <tr>\n",
       "      <th>16</th>\n",
       "      <td>Test_5_grapheme_root</td>\n",
       "      <td>115</td>\n",
       "    </tr>\n",
       "    <tr>\n",
       "      <th>17</th>\n",
       "      <td>Test_5_vowel_diacritic</td>\n",
       "      <td>2</td>\n",
       "    </tr>\n",
       "    <tr>\n",
       "      <th>18</th>\n",
       "      <td>Test_6_consonant_diacritic</td>\n",
       "      <td>5</td>\n",
       "    </tr>\n",
       "    <tr>\n",
       "      <th>19</th>\n",
       "      <td>Test_6_grapheme_root</td>\n",
       "      <td>23</td>\n",
       "    </tr>\n",
       "    <tr>\n",
       "      <th>20</th>\n",
       "      <td>Test_6_vowel_diacritic</td>\n",
       "      <td>9</td>\n",
       "    </tr>\n",
       "    <tr>\n",
       "      <th>21</th>\n",
       "      <td>Test_7_consonant_diacritic</td>\n",
       "      <td>0</td>\n",
       "    </tr>\n",
       "    <tr>\n",
       "      <th>22</th>\n",
       "      <td>Test_7_grapheme_root</td>\n",
       "      <td>137</td>\n",
       "    </tr>\n",
       "    <tr>\n",
       "      <th>23</th>\n",
       "      <td>Test_7_vowel_diacritic</td>\n",
       "      <td>7</td>\n",
       "    </tr>\n",
       "    <tr>\n",
       "      <th>24</th>\n",
       "      <td>Test_8_consonant_diacritic</td>\n",
       "      <td>0</td>\n",
       "    </tr>\n",
       "    <tr>\n",
       "      <th>25</th>\n",
       "      <td>Test_8_grapheme_root</td>\n",
       "      <td>119</td>\n",
       "    </tr>\n",
       "    <tr>\n",
       "      <th>26</th>\n",
       "      <td>Test_8_vowel_diacritic</td>\n",
       "      <td>9</td>\n",
       "    </tr>\n",
       "    <tr>\n",
       "      <th>27</th>\n",
       "      <td>Test_9_consonant_diacritic</td>\n",
       "      <td>0</td>\n",
       "    </tr>\n",
       "    <tr>\n",
       "      <th>28</th>\n",
       "      <td>Test_9_grapheme_root</td>\n",
       "      <td>133</td>\n",
       "    </tr>\n",
       "    <tr>\n",
       "      <th>29</th>\n",
       "      <td>Test_9_vowel_diacritic</td>\n",
       "      <td>10</td>\n",
       "    </tr>\n",
       "    <tr>\n",
       "      <th>30</th>\n",
       "      <td>Test_10_consonant_diacritic</td>\n",
       "      <td>4</td>\n",
       "    </tr>\n",
       "    <tr>\n",
       "      <th>31</th>\n",
       "      <td>Test_10_grapheme_root</td>\n",
       "      <td>148</td>\n",
       "    </tr>\n",
       "    <tr>\n",
       "      <th>32</th>\n",
       "      <td>Test_10_vowel_diacritic</td>\n",
       "      <td>1</td>\n",
       "    </tr>\n",
       "    <tr>\n",
       "      <th>33</th>\n",
       "      <td>Test_11_consonant_diacritic</td>\n",
       "      <td>0</td>\n",
       "    </tr>\n",
       "    <tr>\n",
       "      <th>34</th>\n",
       "      <td>Test_11_grapheme_root</td>\n",
       "      <td>21</td>\n",
       "    </tr>\n",
       "    <tr>\n",
       "      <th>35</th>\n",
       "      <td>Test_11_vowel_diacritic</td>\n",
       "      <td>2</td>\n",
       "    </tr>\n",
       "  </tbody>\n",
       "</table>\n",
       "</div>"
      ],
      "text/plain": [
       "                         row_id  target\n",
       "0    Test_0_consonant_diacritic       0\n",
       "1          Test_0_grapheme_root       3\n",
       "2        Test_0_vowel_diacritic       0\n",
       "3    Test_1_consonant_diacritic       0\n",
       "4          Test_1_grapheme_root      93\n",
       "5        Test_1_vowel_diacritic       2\n",
       "6    Test_2_consonant_diacritic       0\n",
       "7          Test_2_grapheme_root      19\n",
       "8        Test_2_vowel_diacritic       0\n",
       "9    Test_3_consonant_diacritic       0\n",
       "10         Test_3_grapheme_root     115\n",
       "11       Test_3_vowel_diacritic       0\n",
       "12   Test_4_consonant_diacritic       0\n",
       "13         Test_4_grapheme_root      55\n",
       "14       Test_4_vowel_diacritic       4\n",
       "15   Test_5_consonant_diacritic       0\n",
       "16         Test_5_grapheme_root     115\n",
       "17       Test_5_vowel_diacritic       2\n",
       "18   Test_6_consonant_diacritic       5\n",
       "19         Test_6_grapheme_root      23\n",
       "20       Test_6_vowel_diacritic       9\n",
       "21   Test_7_consonant_diacritic       0\n",
       "22         Test_7_grapheme_root     137\n",
       "23       Test_7_vowel_diacritic       7\n",
       "24   Test_8_consonant_diacritic       0\n",
       "25         Test_8_grapheme_root     119\n",
       "26       Test_8_vowel_diacritic       9\n",
       "27   Test_9_consonant_diacritic       0\n",
       "28         Test_9_grapheme_root     133\n",
       "29       Test_9_vowel_diacritic      10\n",
       "30  Test_10_consonant_diacritic       4\n",
       "31        Test_10_grapheme_root     148\n",
       "32      Test_10_vowel_diacritic       1\n",
       "33  Test_11_consonant_diacritic       0\n",
       "34        Test_11_grapheme_root      21\n",
       "35      Test_11_vowel_diacritic       2"
      ]
     },
     "execution_count": 19,
     "metadata": {},
     "output_type": "execute_result"
    }
   ],
   "source": [
    "df_sample = pd.DataFrame(\n",
    "    {\n",
    "        'row_id': rowId,\n",
    "        'target': allpredictions\n",
    "    },\n",
    "    columns = ['row_id','target'] \n",
    ")\n",
    "del allpredictions\n",
    "del rowId\n",
    "gc.collect()\n",
    "df_sample.to_csv('submission.csv',index=False)\n",
    "df_sample"
   ]
  }
 ],
 "metadata": {
  "kernelspec": {
   "display_name": "Python 3",
   "language": "python",
   "name": "python3"
  },
  "language_info": {
   "codemirror_mode": {
    "name": "ipython",
    "version": 3
   },
   "file_extension": ".py",
   "mimetype": "text/x-python",
   "name": "python",
   "nbconvert_exporter": "python",
   "pygments_lexer": "ipython3",
   "version": "3.6.6"
  }
 },
 "nbformat": 4,
 "nbformat_minor": 1
}
